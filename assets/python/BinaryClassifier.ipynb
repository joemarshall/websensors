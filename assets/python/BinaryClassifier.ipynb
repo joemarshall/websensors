{
  "nbformat": 4,
  "nbformat_minor": 0,
  "metadata": {
    "colab": {
      "name": "Tempo tapper",
      "provenance": [],
      "authorship_tag": "ABX9TyPTmTw8YfPadZuqIomzFt4J",
      "include_colab_link": true
    },
    "kernelspec": {
      "name": "python3",
      "display_name": "Python 3"
    },
    "language_info": {
      "name": "python"
    }
  },
  "cells": [
    {
      "cell_type": "markdown",
      "metadata": {
        "id": "view-in-github",
        "colab_type": "text"
      },
      "source": [
        "<a href=\"https://colab.research.google.com/github/joemarshall/websensors/blob/main/assets/python/BinaryClassifier\" target=\"_parent\"><img src=\"https://colab.research.google.com/assets/colab-badge.svg\" alt=\"Open In Colab\"/></a>"
      ]
    },
    {
      "cell_type": "markdown",
      "source": [
        "This colab workbook presents a workflow for training a machine learning model for a simple classifier, then outputs it as a tflite file which can be used in the websensor platform or on a raspberry pi."
      ],
      "metadata": {
        "id": "y0x8G-ZpojrD"
      }
    },
    {
      "cell_type": "code",
      "execution_count": null,
      "metadata": {
        "id": "UHMTFvXst49i"
      },
      "outputs": [],
      "source": [
        "# tensorflow is the machine learning library we use\n",
        "import tensorflow as tf\n",
        "# numpy is for fast python maths\n",
        "import numpy as np\n",
        "# pandas for importing datafiles\n",
        "import pandas as pd\n",
        "import io\n",
        "\n",
        "# make some stuff that is in tensorflow be \n",
        "# easier to get at below\n",
        "import tensorflow.keras as keras\n",
        "import tensorflow.keras.layers as layers\n",
        "import tensorflow.keras.losses as losses\n",
        "\n",
        "\n"
      ]
    },
    {
      "cell_type": "code",
      "source": [
        "# load datafiles - each datafile is a csv file of continuous sensor data with. \n",
        "# accompanying ground truth tempo data calculated from the previous 4 beats\n",
        "\n",
        "# recorded data can be from a raspberry pi or from the websensor platform\n",
        "\n",
        "# this stuff makes an upload box appear\n",
        "from google.colab import files\n",
        "uploaded = files.upload()"
      ],
      "metadata": {
        "colab": {
          "resources": {
            "http://localhost:8080/nbextensions/google.colab/files.js": {
              "data": "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",
              "ok": true,
              "headers": [
                [
                  "content-type",
                  "application/javascript"
                ]
              ],
              "status": 200,
              "status_text": ""
            }
          },
          "base_uri": "https://localhost:8080/",
          "height": 74
        },
        "id": "9lKzFRi3uriR",
        "outputId": "4cd9c76e-4911-4140-efe2-8726548c045a"
      },
      "execution_count": null,
      "outputs": [
        {
          "output_type": "display_data",
          "data": {
            "text/plain": [
              "<IPython.core.display.HTML object>"
            ],
            "text/html": [
              "\n",
              "     <input type=\"file\" id=\"files-69ac6f8d-3b3b-4a09-9523-05e2d23d89ff\" name=\"files[]\" multiple disabled\n",
              "        style=\"border:none\" />\n",
              "     <output id=\"result-69ac6f8d-3b3b-4a09-9523-05e2d23d89ff\">\n",
              "      Upload widget is only available when the cell has been executed in the\n",
              "      current browser session. Please rerun this cell to enable.\n",
              "      </output>\n",
              "      <script src=\"/nbextensions/google.colab/files.js\"></script> "
            ]
          },
          "metadata": {}
        },
        {
          "output_type": "stream",
          "name": "stdout",
          "text": [
            "Saving tempo_gt.csv to tempo_gt (1).csv\n"
          ]
        }
      ]
    },
    {
      "cell_type": "code",
      "source": [
        "# preprocess - for each data point, add history of the previous 511 points\n",
        "# this is called 'unrolling'\n",
        "def unroll_data_and_preprocess(data,gt):\n",
        "  np_data=np.array(data)\n",
        "  np_data=(np_data/512.0) # scale the data so it isn't too big\n",
        "  return (np.lib.stride_tricks.sliding_window_view(np_data,window_shape=[512])).copy(),gt[511:]\n",
        "\n",
        "\n",
        "\n",
        "column_names=[\"sound level\",\"ground truth\"]\n",
        "\n",
        "datasets=[]\n",
        "\n",
        "for c in uploaded.keys():\n",
        "  print(f\"Loading: {c}\")\n",
        "  csv_frame=pd.read_csv(io.BytesIO(uploaded[c]))\n",
        "  file_x = csv_frame[column_names[0]].to_numpy()\n",
        "  file_y= csv_frame[column_names[1]].to_numpy()\n",
        "  datasets.append(unroll_data_and_preprocess(file_x,file_y))\n",
        "\n",
        "# make arrays for x and y\n",
        "x_data=np.concatenate([x for (x,y) in datasets])\n",
        "y_data=np.concatenate([y for (x,y) in datasets])\n",
        "print(f\"Loaded data: {x_data.shape},{y_data.shape}\")"
      ],
      "metadata": {
        "colab": {
          "base_uri": "https://localhost:8080/"
        },
        "id": "9CWn7Q1f08hJ",
        "outputId": "cc03f353-654b-4906-b6c7-0f98606d8a2d"
      },
      "execution_count": null,
      "outputs": [
        {
          "output_type": "stream",
          "name": "stdout",
          "text": [
            "Loading: tempo_gt.csv\n",
            "Loaded data: (7950, 512),(7950,)\n"
          ]
        }
      ]
    },
    {
      "cell_type": "code",
      "source": [],
      "metadata": {
        "id": "xz34vn2b6uw_"
      },
      "execution_count": null,
      "outputs": []
    },
    {
      "cell_type": "code",
      "source": [
        "# shuffle the datasets\n",
        "p = np.random.permutation(x_data.shape[0])\n",
        "x_data=x_data[p]\n",
        "y_data=y_data[p]\n",
        "\n",
        "# split the datasets into train and test\n",
        "split_point=int (x_data.shape[0]*.75 )\n",
        "#split_point=x_data.shape[0]-1\n",
        "x_train=x_data[0:split_point]\n",
        "x_test=x_data[split_point:]\n",
        "y_train=y_data[0:split_point]\n",
        "y_test=y_data[split_point:]\n",
        "\n",
        "\n"
      ],
      "metadata": {
        "id": "WF2lnOzT7rRO"
      },
      "execution_count": null,
      "outputs": []
    },
    {
      "cell_type": "code",
      "source": [
        "# build a model - 4 convolutional layers to identify features, then a fully connected layer to output \n",
        "# the tempo value\n",
        "model=keras.Sequential(layers=[layers.Input(name='x',shape=(512,1)),layers.Conv1D(32,kernel_size=3,padding=\"same\",strides=2,activation=\"relu\"),\n",
        "                         layers.Conv1D(32,kernel_size=3,padding=\"same\",strides=2,activation=\"relu\"),\n",
        "                         layers.Conv1D(32,kernel_size=3,padding=\"same\",strides=2,activation=\"relu\"),\n",
        "                         layers.Conv1D(32,kernel_size=3,padding=\"same\",strides=2,activation=\"relu\"),\n",
        "                         #layers.Conv1D(64,kernel_size=32,padding=\"same\",strides=32,activation=\"relu\"),\n",
        "                         layers.Flatten(),\n",
        "                         layers.Dense(64,activation=\"relu\"),\n",
        "                         layers.Dense(1,activation=\"sigmoid\",name='y')]) # sigmoid = between 0 and 1\n",
        "model.compile(optimizer='adam', loss='mse',run_eagerly=True) # mean squared error loss is a good default for regression problems\n",
        "model.build(input_shape=(None,512,1))\n",
        "model.summary()\n",
        "print(model.input,model.output)"
      ],
      "metadata": {
        "id": "vsYtumr07_2K",
        "colab": {
          "base_uri": "https://localhost:8080/"
        },
        "outputId": "4a488076-972f-45ef-b1a1-a989655d51b4"
      },
      "execution_count": null,
      "outputs": [
        {
          "output_type": "stream",
          "name": "stdout",
          "text": [
            "Model: \"sequential_2\"\n",
            "_________________________________________________________________\n",
            " Layer (type)                Output Shape              Param #   \n",
            "=================================================================\n",
            " conv1d_8 (Conv1D)           (None, 256, 32)           128       \n",
            "                                                                 \n",
            " conv1d_9 (Conv1D)           (None, 128, 32)           3104      \n",
            "                                                                 \n",
            " conv1d_10 (Conv1D)          (None, 64, 32)            3104      \n",
            "                                                                 \n",
            " conv1d_11 (Conv1D)          (None, 32, 32)            3104      \n",
            "                                                                 \n",
            " flatten_2 (Flatten)         (None, 1024)              0         \n",
            "                                                                 \n",
            " dense_2 (Dense)             (None, 64)                65600     \n",
            "                                                                 \n",
            " y (Dense)                   (None, 1)                 65        \n",
            "                                                                 \n",
            "=================================================================\n",
            "Total params: 75,105\n",
            "Trainable params: 75,105\n",
            "Non-trainable params: 0\n",
            "_________________________________________________________________\n",
            "KerasTensor(type_spec=TensorSpec(shape=(None, 512, 1), dtype=tf.float32, name='x'), name='x', description=\"created by layer 'x'\") KerasTensor(type_spec=TensorSpec(shape=(None, 1), dtype=tf.float32, name=None), name='y/Relu:0', description=\"created by layer 'y'\")\n"
          ]
        }
      ]
    },
    {
      "cell_type": "code",
      "source": [
        "# call train on the model\n",
        "model.fit(x_train,y_train,batch_size=32,validation_data=(x_test,y_test),epochs=100)\n"
      ],
      "metadata": {
        "id": "MIAndjiv7-CU",
        "colab": {
          "base_uri": "https://localhost:8080/"
        },
        "outputId": "3f702736-2cb3-4952-f264-864101e50240"
      },
      "execution_count": null,
      "outputs": [
        {
          "output_type": "stream",
          "name": "stdout",
          "text": [
            "Epoch 1/100\n",
            "187/187 [==============================] - 5s 29ms/step - loss: 707.5798 - val_loss: 642.1845\n",
            "Epoch 2/100\n",
            "187/187 [==============================] - 6s 30ms/step - loss: 605.3569 - val_loss: 546.2111\n",
            "Epoch 3/100\n",
            "187/187 [==============================] - 6s 30ms/step - loss: 520.2805 - val_loss: 491.4795\n",
            "Epoch 4/100\n",
            "187/187 [==============================] - 5s 29ms/step - loss: 464.1988 - val_loss: 490.2721\n",
            "Epoch 5/100\n",
            "187/187 [==============================] - 5s 29ms/step - loss: 375.9774 - val_loss: 361.6880\n",
            "Epoch 6/100\n",
            "187/187 [==============================] - 6s 30ms/step - loss: 352.3999 - val_loss: 459.3267\n",
            "Epoch 7/100\n",
            "187/187 [==============================] - 6s 30ms/step - loss: 336.7682 - val_loss: 315.1294\n",
            "Epoch 8/100\n",
            "187/187 [==============================] - 6s 33ms/step - loss: 293.3651 - val_loss: 268.4543\n",
            "Epoch 9/100\n",
            "187/187 [==============================] - 5s 28ms/step - loss: 265.6620 - val_loss: 265.4473\n",
            "Epoch 10/100\n",
            "187/187 [==============================] - 5s 29ms/step - loss: 232.8278 - val_loss: 283.2836\n",
            "Epoch 11/100\n",
            "187/187 [==============================] - 6s 30ms/step - loss: 226.3322 - val_loss: 207.8333\n",
            "Epoch 12/100\n",
            "187/187 [==============================] - 5s 28ms/step - loss: 216.8569 - val_loss: 207.2478\n",
            "Epoch 13/100\n",
            "187/187 [==============================] - 5s 28ms/step - loss: 190.9024 - val_loss: 191.7247\n",
            "Epoch 14/100\n",
            "187/187 [==============================] - 5s 29ms/step - loss: 187.5972 - val_loss: 212.9715\n",
            "Epoch 15/100\n",
            "187/187 [==============================] - 5s 29ms/step - loss: 181.4875 - val_loss: 174.5086\n",
            "Epoch 16/100\n",
            "187/187 [==============================] - 5s 29ms/step - loss: 179.6313 - val_loss: 169.3873\n",
            "Epoch 17/100\n",
            "187/187 [==============================] - 5s 28ms/step - loss: 180.9988 - val_loss: 178.3251\n",
            "Epoch 18/100\n",
            "187/187 [==============================] - 5s 29ms/step - loss: 168.5616 - val_loss: 176.0633\n",
            "Epoch 19/100\n",
            "187/187 [==============================] - 5s 29ms/step - loss: 165.3677 - val_loss: 160.6704\n",
            "Epoch 20/100\n",
            "187/187 [==============================] - 5s 29ms/step - loss: 161.8056 - val_loss: 156.6421\n",
            "Epoch 21/100\n",
            "187/187 [==============================] - 5s 28ms/step - loss: 173.5849 - val_loss: 154.0975\n",
            "Epoch 22/100\n",
            "187/187 [==============================] - 5s 29ms/step - loss: 162.4619 - val_loss: 196.5728\n",
            "Epoch 23/100\n",
            "187/187 [==============================] - 5s 29ms/step - loss: 151.1631 - val_loss: 182.0806\n",
            "Epoch 24/100\n",
            "187/187 [==============================] - 5s 29ms/step - loss: 154.2690 - val_loss: 156.5462\n",
            "Epoch 25/100\n",
            "187/187 [==============================] - 5s 28ms/step - loss: 149.5798 - val_loss: 148.7541\n",
            "Epoch 26/100\n",
            "187/187 [==============================] - 5s 28ms/step - loss: 140.0097 - val_loss: 153.1852\n",
            "Epoch 27/100\n",
            "187/187 [==============================] - 5s 29ms/step - loss: 137.3370 - val_loss: 148.7188\n",
            "Epoch 28/100\n",
            "187/187 [==============================] - 6s 29ms/step - loss: 148.3183 - val_loss: 145.9154\n",
            "Epoch 29/100\n",
            "187/187 [==============================] - 5s 28ms/step - loss: 141.6226 - val_loss: 139.0632\n",
            "Epoch 30/100\n",
            "187/187 [==============================] - 5s 29ms/step - loss: 125.7179 - val_loss: 131.4919\n",
            "Epoch 31/100\n",
            "187/187 [==============================] - 5s 29ms/step - loss: 128.1789 - val_loss: 126.0762\n",
            "Epoch 32/100\n",
            "187/187 [==============================] - 6s 30ms/step - loss: 126.4804 - val_loss: 129.4485\n",
            "Epoch 33/100\n",
            "187/187 [==============================] - 5s 28ms/step - loss: 122.1091 - val_loss: 116.9489\n",
            "Epoch 34/100\n",
            "187/187 [==============================] - 5s 29ms/step - loss: 121.1681 - val_loss: 116.4472\n",
            "Epoch 35/100\n",
            "187/187 [==============================] - 7s 38ms/step - loss: 115.9203 - val_loss: 129.7070\n",
            "Epoch 36/100\n",
            "187/187 [==============================] - 8s 44ms/step - loss: 118.1926 - val_loss: 117.1428\n",
            "Epoch 37/100\n",
            "187/187 [==============================] - 5s 28ms/step - loss: 109.0743 - val_loss: 108.2816\n",
            "Epoch 38/100\n",
            "187/187 [==============================] - 5s 29ms/step - loss: 112.0465 - val_loss: 105.6541\n",
            "Epoch 39/100\n",
            "187/187 [==============================] - 5s 29ms/step - loss: 109.4168 - val_loss: 104.4214\n",
            "Epoch 40/100\n",
            "187/187 [==============================] - 6s 30ms/step - loss: 105.4651 - val_loss: 105.5470\n",
            "Epoch 41/100\n",
            "187/187 [==============================] - 5s 29ms/step - loss: 99.6384 - val_loss: 104.8403\n",
            "Epoch 42/100\n",
            "187/187 [==============================] - 5s 28ms/step - loss: 94.7841 - val_loss: 93.1459\n",
            "Epoch 43/100\n",
            "187/187 [==============================] - 5s 29ms/step - loss: 98.2360 - val_loss: 139.4532\n",
            "Epoch 44/100\n",
            "187/187 [==============================] - 6s 30ms/step - loss: 96.4342 - val_loss: 105.4485\n",
            "Epoch 45/100\n",
            "187/187 [==============================] - 5s 29ms/step - loss: 92.3600 - val_loss: 116.1865\n",
            "Epoch 46/100\n",
            "187/187 [==============================] - 5s 29ms/step - loss: 90.7397 - val_loss: 102.3570\n",
            "Epoch 47/100\n",
            "187/187 [==============================] - 6s 30ms/step - loss: 94.2549 - val_loss: 96.7963\n",
            "Epoch 48/100\n",
            "187/187 [==============================] - 6s 30ms/step - loss: 86.0871 - val_loss: 98.0446\n",
            "Epoch 49/100\n",
            "187/187 [==============================] - 5s 29ms/step - loss: 91.5351 - val_loss: 83.4672\n",
            "Epoch 50/100\n",
            "187/187 [==============================] - 5s 28ms/step - loss: 84.9799 - val_loss: 83.0695\n",
            "Epoch 51/100\n",
            "187/187 [==============================] - 5s 29ms/step - loss: 81.1889 - val_loss: 80.6495\n",
            "Epoch 52/100\n",
            "187/187 [==============================] - 6s 30ms/step - loss: 78.2594 - val_loss: 85.9258\n",
            "Epoch 53/100\n",
            "187/187 [==============================] - 5s 29ms/step - loss: 76.6320 - val_loss: 93.6080\n",
            "Epoch 54/100\n",
            "187/187 [==============================] - 5s 28ms/step - loss: 76.6555 - val_loss: 93.1934\n",
            "Epoch 55/100\n",
            "187/187 [==============================] - 6s 29ms/step - loss: 81.5700 - val_loss: 84.5261\n",
            "Epoch 56/100\n",
            "187/187 [==============================] - 6s 30ms/step - loss: 74.0875 - val_loss: 75.8984\n",
            "Epoch 57/100\n",
            "187/187 [==============================] - 5s 29ms/step - loss: 72.7132 - val_loss: 73.0559\n",
            "Epoch 58/100\n",
            "187/187 [==============================] - 5s 29ms/step - loss: 67.1290 - val_loss: 73.4079\n",
            "Epoch 59/100\n",
            "187/187 [==============================] - 5s 29ms/step - loss: 66.5451 - val_loss: 71.8463\n",
            "Epoch 60/100\n",
            "187/187 [==============================] - 5s 29ms/step - loss: 67.3304 - val_loss: 69.7321\n",
            "Epoch 61/100\n",
            "187/187 [==============================] - 5s 29ms/step - loss: 64.5505 - val_loss: 72.2699\n",
            "Epoch 62/100\n",
            "187/187 [==============================] - 5s 28ms/step - loss: 73.3812 - val_loss: 69.5741\n",
            "Epoch 63/100\n",
            "187/187 [==============================] - 5s 28ms/step - loss: 61.5248 - val_loss: 67.3059\n",
            "Epoch 64/100\n",
            "187/187 [==============================] - 6s 29ms/step - loss: 62.1846 - val_loss: 70.0709\n",
            "Epoch 65/100\n",
            "187/187 [==============================] - 5s 29ms/step - loss: 58.5514 - val_loss: 72.1397\n",
            "Epoch 66/100\n",
            "187/187 [==============================] - 5s 29ms/step - loss: 57.8109 - val_loss: 114.1356\n",
            "Epoch 67/100\n",
            "187/187 [==============================] - 5s 28ms/step - loss: 61.6434 - val_loss: 62.1662\n",
            "Epoch 68/100\n",
            "187/187 [==============================] - 5s 29ms/step - loss: 56.1198 - val_loss: 67.2100\n",
            "Epoch 69/100\n",
            "187/187 [==============================] - 5s 29ms/step - loss: 55.1320 - val_loss: 61.3634\n",
            "Epoch 70/100\n",
            "187/187 [==============================] - 5s 29ms/step - loss: 53.3787 - val_loss: 76.6274\n",
            "Epoch 71/100\n",
            "187/187 [==============================] - 5s 28ms/step - loss: 60.8475 - val_loss: 59.2855\n",
            "Epoch 72/100\n",
            "187/187 [==============================] - 5s 28ms/step - loss: 50.7771 - val_loss: 57.6214\n",
            "Epoch 73/100\n",
            "187/187 [==============================] - 5s 29ms/step - loss: 52.1833 - val_loss: 90.2077\n",
            "Epoch 74/100\n",
            "187/187 [==============================] - 5s 29ms/step - loss: 54.3326 - val_loss: 69.0635\n",
            "Epoch 75/100\n",
            "187/187 [==============================] - 5s 28ms/step - loss: 50.7888 - val_loss: 63.6529\n",
            "Epoch 76/100\n",
            "187/187 [==============================] - 5s 29ms/step - loss: 47.9392 - val_loss: 54.2828\n",
            "Epoch 77/100\n",
            "187/187 [==============================] - 5s 29ms/step - loss: 46.3494 - val_loss: 53.6437\n",
            "Epoch 78/100\n",
            "187/187 [==============================] - 5s 29ms/step - loss: 50.4972 - val_loss: 74.0812\n",
            "Epoch 79/100\n",
            "187/187 [==============================] - 5s 28ms/step - loss: 50.2054 - val_loss: 53.6899\n",
            "Epoch 80/100\n",
            "187/187 [==============================] - 5s 29ms/step - loss: 46.8189 - val_loss: 53.8906\n",
            "Epoch 81/100\n",
            "187/187 [==============================] - 5s 29ms/step - loss: 45.0494 - val_loss: 54.6142\n",
            "Epoch 82/100\n",
            "187/187 [==============================] - 5s 29ms/step - loss: 43.5037 - val_loss: 53.2882\n",
            "Epoch 83/100\n",
            "187/187 [==============================] - 5s 28ms/step - loss: 42.3297 - val_loss: 49.7894\n",
            "Epoch 84/100\n",
            "187/187 [==============================] - 5s 28ms/step - loss: 40.0219 - val_loss: 75.8949\n",
            "Epoch 85/100\n",
            "187/187 [==============================] - 6s 29ms/step - loss: 41.0906 - val_loss: 95.4954\n",
            "Epoch 86/100\n",
            "187/187 [==============================] - 6s 30ms/step - loss: 41.4049 - val_loss: 49.6992\n",
            "Epoch 87/100\n",
            "187/187 [==============================] - 5s 28ms/step - loss: 38.1228 - val_loss: 63.0229\n",
            "Epoch 88/100\n",
            "187/187 [==============================] - 5s 28ms/step - loss: 39.6687 - val_loss: 48.4349\n",
            "Epoch 89/100\n",
            "187/187 [==============================] - 5s 29ms/step - loss: 36.4619 - val_loss: 54.5612\n",
            "Epoch 90/100\n",
            "187/187 [==============================] - 5s 29ms/step - loss: 38.1273 - val_loss: 51.5052\n",
            "Epoch 91/100\n",
            "187/187 [==============================] - 5s 29ms/step - loss: 36.4590 - val_loss: 49.2396\n",
            "Epoch 92/100\n",
            "187/187 [==============================] - 5s 28ms/step - loss: 37.9718 - val_loss: 58.1208\n",
            "Epoch 93/100\n",
            "187/187 [==============================] - 5s 29ms/step - loss: 37.0777 - val_loss: 42.1657\n",
            "Epoch 94/100\n",
            "187/187 [==============================] - 5s 29ms/step - loss: 34.7991 - val_loss: 67.6894\n",
            "Epoch 95/100\n",
            "187/187 [==============================] - 5s 29ms/step - loss: 33.2373 - val_loss: 41.0097\n",
            "Epoch 96/100\n",
            "187/187 [==============================] - 5s 28ms/step - loss: 31.7782 - val_loss: 42.1402\n",
            "Epoch 97/100\n",
            "187/187 [==============================] - 6s 30ms/step - loss: 34.8946 - val_loss: 52.3164\n",
            "Epoch 98/100\n",
            "187/187 [==============================] - 6s 30ms/step - loss: 34.2055 - val_loss: 38.8134\n",
            "Epoch 99/100\n",
            "187/187 [==============================] - 6s 29ms/step - loss: 30.6145 - val_loss: 38.0452\n",
            "Epoch 100/100\n",
            "187/187 [==============================] - 5s 29ms/step - loss: 29.9939 - val_loss: 46.0262\n"
          ]
        },
        {
          "output_type": "execute_result",
          "data": {
            "text/plain": [
              "<keras.callbacks.History at 0x7fddd420ad50>"
            ]
          },
          "metadata": {},
          "execution_count": 14
        }
      ]
    },
    {
      "cell_type": "code",
      "source": [
        "# Save model to a tflite model for inference on raspberry pi (or websensor platform)\n",
        "converter=tf.lite.TFLiteConverter.from_keras_model(model)\n",
        "tflite=converter.convert()\n",
        "\n",
        "tflite_model_file = open('model.tflite',\"wb\")\n",
        "tflite_model_file.write(tflite)\n",
        "\n",
        "interpreter = tf.lite.Interpreter(model_content=tflite)\n",
        "\n",
        "signatures = interpreter.get_signature_list()\n",
        "print(signatures)\n",
        "\n",
        "from google.colab import files\n",
        "files.download('model.tflite')\n"
      ],
      "metadata": {
        "id": "gGjERc-8Rwkz",
        "colab": {
          "base_uri": "https://localhost:8080/",
          "height": 69
        },
        "outputId": "05deaee0-92be-4e58-d5eb-461b9ea82eb2"
      },
      "execution_count": null,
      "outputs": [
        {
          "output_type": "stream",
          "name": "stdout",
          "text": [
            "INFO:tensorflow:Assets written to: /tmp/tmp1w1_nmr7/assets\n"
          ]
        },
        {
          "output_type": "stream",
          "name": "stderr",
          "text": [
            "WARNING:absl:Buffer deduplication procedure will be skipped when flatbuffer library is not properly loaded\n"
          ]
        },
        {
          "output_type": "stream",
          "name": "stdout",
          "text": [
            "{'serving_default': {'inputs': ['x'], 'outputs': ['y']}}\n"
          ]
        },
        {
          "output_type": "display_data",
          "data": {
            "text/plain": [
              "<IPython.core.display.Javascript object>"
            ],
            "application/javascript": [
              "\n",
              "    async function download(id, filename, size) {\n",
              "      if (!google.colab.kernel.accessAllowed) {\n",
              "        return;\n",
              "      }\n",
              "      const div = document.createElement('div');\n",
              "      const label = document.createElement('label');\n",
              "      label.textContent = `Downloading \"${filename}\": `;\n",
              "      div.appendChild(label);\n",
              "      const progress = document.createElement('progress');\n",
              "      progress.max = size;\n",
              "      div.appendChild(progress);\n",
              "      document.body.appendChild(div);\n",
              "\n",
              "      const buffers = [];\n",
              "      let downloaded = 0;\n",
              "\n",
              "      const channel = await google.colab.kernel.comms.open(id);\n",
              "      // Send a message to notify the kernel that we're ready.\n",
              "      channel.send({})\n",
              "\n",
              "      for await (const message of channel.messages) {\n",
              "        // Send a message to notify the kernel that we're ready.\n",
              "        channel.send({})\n",
              "        if (message.buffers) {\n",
              "          for (const buffer of message.buffers) {\n",
              "            buffers.push(buffer);\n",
              "            downloaded += buffer.byteLength;\n",
              "            progress.value = downloaded;\n",
              "          }\n",
              "        }\n",
              "      }\n",
              "      const blob = new Blob(buffers, {type: 'application/binary'});\n",
              "      const a = document.createElement('a');\n",
              "      a.href = window.URL.createObjectURL(blob);\n",
              "      a.download = filename;\n",
              "      div.appendChild(a);\n",
              "      a.click();\n",
              "      div.remove();\n",
              "    }\n",
              "  "
            ]
          },
          "metadata": {}
        },
        {
          "output_type": "display_data",
          "data": {
            "text/plain": [
              "<IPython.core.display.Javascript object>"
            ],
            "application/javascript": [
              "download(\"download_4f220017-15d9-4f87-93f6-a460994df5a3\", \"tempomodel.tflite\", 305756)"
            ]
          },
          "metadata": {}
        }
      ]
    }
  ]
}
