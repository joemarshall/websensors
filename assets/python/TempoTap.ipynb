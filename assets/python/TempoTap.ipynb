{
  "nbformat": 4,
  "nbformat_minor": 0,
  "metadata": {
    "colab": {
      "name": "Knock Lock (CNN based neural network for matching knock patterns",
      "provenance": [],
      "collapsed_sections": [],
      "authorship_tag": "ABX9TyNiDTEsEpHMY9L5S5PX7Joy",
      "include_colab_link": true
    },
    "kernelspec": {
      "name": "python3",
      "display_name": "Python 3"
    },
    "language_info": {
      "name": "python"
    }
  },
  "cells": [
    {
      "cell_type": "markdown",
      "metadata": {
        "id": "view-in-github",
        "colab_type": "text"
      },
      "source": [
        "<a href=\"https://colab.research.google.com/github/joemarshall/websensors/blob/main/assets/python/TempoTap.ipynb\" target=\"_parent\"><img src=\"https://colab.research.google.com/assets/colab-badge.svg\" alt=\"Open In Colab\"/></a>"
      ]
    },
    {
      "cell_type": "markdown",
      "source": [
        "This colab workbook presents a workflow for training a machine learning model for a simple pattern based recognition, then outputs it as a tflite file which can be used in the websensor platform or on a raspberry pi."
      ],
      "metadata": {
        "id": "y0x8G-ZpojrD"
      }
    },
    {
      "cell_type": "code",
      "execution_count": null,
      "metadata": {
        "id": "UHMTFvXst49i"
      },
      "outputs": [],
      "source": [
        "# tensorflow is the machine learning library we use\n",
        "import tensorflow as tf\n",
        "# numpy is for fast python maths\n",
        "import numpy as np\n",
        "# pandas for importing datafiles\n",
        "import pandas as pd\n",
        "import io\n",
        "\n",
        "# make some stuff that is in tensorflow be \n",
        "# easier to get at below\n",
        "import tensorflow.keras as keras\n",
        "import tensorflow.keras.layers as layers\n",
        "import tensorflow.keras.losses as losses\n",
        "\n",
        "\n"
      ]
    },
    {
      "cell_type": "code",
      "source": [
        "# load datafiles - each datafile is a csv file of continuous sensor data. \n",
        "# The accompanying ground truth is 1 during a correct unlock sequence, 2 during \n",
        "# a failed unlock sequence, 0 otherwise\n",
        "\n",
        "# recorded data can be from a raspberry pi with two buttons which are held down during \n",
        "# the knock sequences, or from the websensor platform\n",
        "\n",
        "# this stuff makes an upload box appear\n",
        "from google.colab import files\n",
        "uploaded = files.upload()"
      ],
      "metadata": {
        "colab": {
          "resources": {
            "http://localhost:8080/nbextensions/google.colab/files.js": {
              "data": "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",
              "ok": true,
              "headers": [
                [
                  "content-type",
                  "application/javascript"
                ]
              ],
              "status": 200,
              "status_text": ""
            }
          },
          "base_uri": "https://localhost:8080/",
          "height": 109
        },
        "id": "9lKzFRi3uriR",
        "outputId": "4a6ad753-e613-4cce-d93b-f06d8bf59067"
      },
      "execution_count": null,
      "outputs": [
        {
          "output_type": "display_data",
          "data": {
            "text/plain": [
              "<IPython.core.display.HTML object>"
            ],
            "text/html": [
              "\n",
              "     <input type=\"file\" id=\"files-36d2374e-5983-4c8b-839d-bc4c4ff85a77\" name=\"files[]\" multiple disabled\n",
              "        style=\"border:none\" />\n",
              "     <output id=\"result-36d2374e-5983-4c8b-839d-bc4c4ff85a77\">\n",
              "      Upload widget is only available when the cell has been executed in the\n",
              "      current browser session. Please rerun this cell to enable.\n",
              "      </output>\n",
              "      <script src=\"/nbextensions/google.colab/files.js\"></script> "
            ]
          },
          "metadata": {}
        },
        {
          "output_type": "stream",
          "name": "stdout",
          "text": [
            "Saving bad_ws.csv to bad_ws (2).csv\n",
            "Saving good_ws.csv to good_ws (2).csv\n"
          ]
        }
      ]
    },
    {
      "cell_type": "code",
      "source": [
        "# preprocess - for each knock sequence take the time that the \n",
        "# sequence takes and spread the raw data over 512 points\n",
        "# and normalise to 0-1 to avoid differences in sensitivity between sensors\n",
        "# or hardness of knock\n",
        "# We also trim silence off the knock pattern\n",
        "MIN_SAMPLES=50\n",
        "column_names=[\"sound level\",\"ground truth\"]\n",
        "\n",
        "all_knocks=[]\n",
        "\n",
        "def preprocess_knock(sensor_data,gt_val):\n",
        "  # normalize the value of sensor data\n",
        "  sensor_np=np.array(sensor_data)\n",
        "  # trim silence off the end\n",
        "  last_sound_pos=np.argmax(np.flip(sensor_np)>128)\n",
        "  sensor_np=sensor_np[:-last_sound_pos]\n",
        "  sensor_np=sensor_np-np.min(sensor_np) # min is now zero\n",
        "  max_sensor=np.max(sensor_np)\n",
        "  if max_sensor>0:\n",
        "    sensor_np=sensor_np/max_sensor # max is now one\n",
        "\n",
        "  # resample it to 512 samples long\n",
        "  x_out_positions=np.linspace(0,512,512)\n",
        "  x_original=np.linspace(0,512,len(sensor_np))\n",
        "  sensor_resampled=np.interp(x_out_positions,x_original,sensor_np)\n",
        "  # make it have 2 axes - time point, sensor, because this is what tensorflow expects\n",
        "  sensor_resampled=np.expand_dims(sensor_resampled,-1)\n",
        "  # we want only zero and one, because we don't use any bits where no \n",
        "  # button is pressed\n",
        "  gt_val=gt_val-1\n",
        "  return sensor_resampled,gt_val\n",
        "\n",
        "for c in uploaded.keys():\n",
        "  print(f\"Loading: {c}\")\n",
        "  csv_frame=pd.read_csv(io.BytesIO(uploaded[c]))\n",
        "  last_gt=0\n",
        "  press_buffer=None\n",
        "  for i,row in csv_frame.iterrows():\n",
        "    gt=row[column_names[1]]\n",
        "    sensor=row[column_names[0]]\n",
        "    if gt!=last_gt:\n",
        "      if gt==0:\n",
        "        # finished pressing - add this to our list of knocks\n",
        "        # as long as it is more than 50 samples\n",
        "        # otherwise assume error\n",
        "        if len(press_buffer)>MIN_SAMPLES:\n",
        "          # add this knock to our data\n",
        "          all_knocks.append(preprocess_knock(press_buffer,last_gt))\n",
        "      else:\n",
        "        # starting a press, clear the press buffer\n",
        "        press_buffer=[]\n",
        "    if gt!=0:\n",
        "      press_buffer.append(sensor)\n",
        "    last_gt=gt\n",
        "\n",
        "# make arrays for x and y\n",
        "x_data=np.stack([x for (x,y) in all_knocks])\n",
        "y_data=np.stack([y for (x,y) in all_knocks])\n",
        "print(f\"Loaded data: {x_data.shape},{y_data.shape}\")"
      ],
      "metadata": {
        "colab": {
          "base_uri": "https://localhost:8080/"
        },
        "id": "9CWn7Q1f08hJ",
        "outputId": "dbdbb5e3-441f-4ae7-fc90-1d77f28b7524"
      },
      "execution_count": null,
      "outputs": [
        {
          "output_type": "stream",
          "name": "stdout",
          "text": [
            "Loading: bad_ws.csv\n",
            "Loading: good_ws.csv\n",
            "Loaded data: (149, 512, 1),(149,)\n"
          ]
        }
      ]
    },
    {
      "cell_type": "code",
      "source": [
        "# maybe could do with some data augmentation?\n",
        "# add silence at the start and end so things shift around a bit\n",
        "# "
      ],
      "metadata": {
        "id": "xz34vn2b6uw_"
      },
      "execution_count": null,
      "outputs": []
    },
    {
      "cell_type": "code",
      "source": [
        "# shuffle the datasets\n",
        "p = np.random.permutation(x_data.shape[0])\n",
        "x_data=x_data[p]\n",
        "y_data=y_data[p]\n",
        "\n",
        "# split the datasets into train and test\n",
        "split_point=int (x_data.shape[0]*.75 )\n",
        "#split_point=x_data.shape[0]-1\n",
        "x_train=x_data[0:split_point]\n",
        "x_test=x_data[split_point:]\n",
        "y_train=y_data[0:split_point]\n",
        "y_test=y_data[split_point:]\n"
      ],
      "metadata": {
        "id": "WF2lnOzT7rRO"
      },
      "execution_count": null,
      "outputs": []
    },
    {
      "cell_type": "code",
      "source": [
        "# build a model - 4 convolutional layers to identify features, then a fully connected layer to output \n",
        "# the unlock or not unlock inference\n",
        "model=keras.Sequential(layers=[layers.Input(name='x',shape=(512,1)),layers.Conv1D(32,kernel_size=3,padding=\"same\",strides=2,activation=\"relu\"),\n",
        "                         layers.Conv1D(32,kernel_size=3,padding=\"same\",strides=2,activation=\"relu\"),\n",
        "                         layers.Conv1D(32,kernel_size=3,padding=\"same\",strides=2,activation=\"relu\"),\n",
        "                         layers.Conv1D(32,kernel_size=3,padding=\"same\",strides=2,activation=\"relu\"),\n",
        "                         #layers.Conv1D(64,kernel_size=32,padding=\"same\",strides=32,activation=\"relu\"),\n",
        "                         layers.Flatten(),\n",
        "                         layers.Dense(64,activation=\"relu\"),\n",
        "                         layers.Dense(2,activation=\"softmax\",name='y')])\n",
        "model.compile(optimizer='adam', loss=losses.SparseCategoricalCrossentropy(),metrics=['accuracy'])\n",
        "model.build(input_shape=(None,512,1))\n",
        "model.summary()\n",
        "print(model.input,model.output)"
      ],
      "metadata": {
        "id": "vsYtumr07_2K",
        "colab": {
          "base_uri": "https://localhost:8080/"
        },
        "outputId": "a4e373fe-1df7-4d99-a138-ca447125de94"
      },
      "execution_count": null,
      "outputs": [
        {
          "output_type": "stream",
          "name": "stdout",
          "text": [
            "Model: \"sequential_1\"\n",
            "_________________________________________________________________\n",
            " Layer (type)                Output Shape              Param #   \n",
            "=================================================================\n",
            " conv1d_4 (Conv1D)           (None, 256, 32)           128       \n",
            "                                                                 \n",
            " conv1d_5 (Conv1D)           (None, 128, 32)           3104      \n",
            "                                                                 \n",
            " conv1d_6 (Conv1D)           (None, 64, 32)            3104      \n",
            "                                                                 \n",
            " conv1d_7 (Conv1D)           (None, 32, 32)            3104      \n",
            "                                                                 \n",
            " flatten_1 (Flatten)         (None, 1024)              0         \n",
            "                                                                 \n",
            " dense_1 (Dense)             (None, 64)                65600     \n",
            "                                                                 \n",
            " y (Dense)                   (None, 2)                 130       \n",
            "                                                                 \n",
            "=================================================================\n",
            "Total params: 75,170\n",
            "Trainable params: 75,170\n",
            "Non-trainable params: 0\n",
            "_________________________________________________________________\n",
            "KerasTensor(type_spec=TensorSpec(shape=(None, 512, 1), dtype=tf.float32, name='x'), name='x', description=\"created by layer 'x'\") KerasTensor(type_spec=TensorSpec(shape=(None, 2), dtype=tf.float32, name=None), name='y/Softmax:0', description=\"created by layer 'y'\")\n"
          ]
        }
      ]
    },
    {
      "cell_type": "code",
      "source": [
        "# call train on the model\n",
        "model.fit(x_train,y_train,batch_size=1,validation_data=(x_test,y_test),epochs=100)\n"
      ],
      "metadata": {
        "id": "MIAndjiv7-CU",
        "colab": {
          "base_uri": "https://localhost:8080/"
        },
        "outputId": "ca987bcd-129e-4944-e731-c3bf3e29caea"
      },
      "execution_count": null,
      "outputs": [
        {
          "output_type": "stream",
          "name": "stdout",
          "text": [
            "Epoch 1/100\n",
            "111/111 [==============================] - 1s 6ms/step - loss: 0.6832 - accuracy: 0.5495 - val_loss: 0.7278 - val_accuracy: 0.5789\n",
            "Epoch 2/100\n",
            "111/111 [==============================] - 0s 4ms/step - loss: 0.5566 - accuracy: 0.7838 - val_loss: 0.6974 - val_accuracy: 0.6316\n",
            "Epoch 3/100\n",
            "111/111 [==============================] - 0s 4ms/step - loss: 0.4516 - accuracy: 0.7928 - val_loss: 0.9115 - val_accuracy: 0.6316\n",
            "Epoch 4/100\n",
            "111/111 [==============================] - 1s 5ms/step - loss: 0.3653 - accuracy: 0.8649 - val_loss: 0.7676 - val_accuracy: 0.6053\n",
            "Epoch 5/100\n",
            "111/111 [==============================] - 1s 5ms/step - loss: 0.3148 - accuracy: 0.8378 - val_loss: 0.9095 - val_accuracy: 0.6579\n",
            "Epoch 6/100\n",
            "111/111 [==============================] - 0s 4ms/step - loss: 0.2436 - accuracy: 0.9009 - val_loss: 0.9294 - val_accuracy: 0.6579\n",
            "Epoch 7/100\n",
            "111/111 [==============================] - 0s 4ms/step - loss: 0.2178 - accuracy: 0.9009 - val_loss: 1.0522 - val_accuracy: 0.5789\n",
            "Epoch 8/100\n",
            "111/111 [==============================] - 0s 4ms/step - loss: 0.1817 - accuracy: 0.9009 - val_loss: 1.1424 - val_accuracy: 0.6316\n",
            "Epoch 9/100\n",
            "111/111 [==============================] - 0s 4ms/step - loss: 0.1614 - accuracy: 0.9279 - val_loss: 1.6025 - val_accuracy: 0.6316\n",
            "Epoch 10/100\n",
            "111/111 [==============================] - 0s 4ms/step - loss: 0.1539 - accuracy: 0.9369 - val_loss: 1.3414 - val_accuracy: 0.6579\n",
            "Epoch 11/100\n",
            "111/111 [==============================] - 0s 4ms/step - loss: 0.1265 - accuracy: 0.9189 - val_loss: 1.3736 - val_accuracy: 0.6579\n",
            "Epoch 12/100\n",
            "111/111 [==============================] - 0s 4ms/step - loss: 0.1295 - accuracy: 0.9459 - val_loss: 1.3008 - val_accuracy: 0.6579\n",
            "Epoch 13/100\n",
            "111/111 [==============================] - 0s 4ms/step - loss: 0.1234 - accuracy: 0.9459 - val_loss: 1.2613 - val_accuracy: 0.6842\n",
            "Epoch 14/100\n",
            "111/111 [==============================] - 0s 4ms/step - loss: 0.1297 - accuracy: 0.9459 - val_loss: 1.3681 - val_accuracy: 0.6579\n",
            "Epoch 15/100\n",
            "111/111 [==============================] - 0s 4ms/step - loss: 0.0850 - accuracy: 0.9550 - val_loss: 1.7154 - val_accuracy: 0.6579\n",
            "Epoch 16/100\n",
            "111/111 [==============================] - 0s 4ms/step - loss: 0.0767 - accuracy: 0.9550 - val_loss: 2.1132 - val_accuracy: 0.6579\n",
            "Epoch 17/100\n",
            "111/111 [==============================] - 0s 4ms/step - loss: 0.1088 - accuracy: 0.9369 - val_loss: 1.6266 - val_accuracy: 0.7368\n",
            "Epoch 18/100\n",
            "111/111 [==============================] - 0s 4ms/step - loss: 0.0599 - accuracy: 0.9730 - val_loss: 2.0477 - val_accuracy: 0.7105\n",
            "Epoch 19/100\n",
            "111/111 [==============================] - 0s 4ms/step - loss: 0.0560 - accuracy: 0.9730 - val_loss: 2.7095 - val_accuracy: 0.7105\n",
            "Epoch 20/100\n",
            "111/111 [==============================] - 0s 4ms/step - loss: 0.0446 - accuracy: 0.9730 - val_loss: 2.7676 - val_accuracy: 0.7105\n",
            "Epoch 21/100\n",
            "111/111 [==============================] - 0s 4ms/step - loss: 0.0308 - accuracy: 0.9730 - val_loss: 3.4215 - val_accuracy: 0.6579\n",
            "Epoch 22/100\n",
            "111/111 [==============================] - 0s 4ms/step - loss: 0.0403 - accuracy: 0.9820 - val_loss: 3.7279 - val_accuracy: 0.7105\n",
            "Epoch 23/100\n",
            "111/111 [==============================] - 0s 4ms/step - loss: 0.0284 - accuracy: 0.9730 - val_loss: 4.0452 - val_accuracy: 0.7105\n",
            "Epoch 24/100\n",
            "111/111 [==============================] - 0s 4ms/step - loss: 0.0269 - accuracy: 0.9730 - val_loss: 4.2427 - val_accuracy: 0.7105\n",
            "Epoch 25/100\n",
            "111/111 [==============================] - 0s 4ms/step - loss: 0.0262 - accuracy: 0.9730 - val_loss: 4.4030 - val_accuracy: 0.7105\n",
            "Epoch 26/100\n",
            "111/111 [==============================] - 0s 4ms/step - loss: 0.0256 - accuracy: 0.9820 - val_loss: 4.5676 - val_accuracy: 0.7105\n",
            "Epoch 27/100\n",
            "111/111 [==============================] - 0s 4ms/step - loss: 0.0264 - accuracy: 0.9820 - val_loss: 4.6314 - val_accuracy: 0.7105\n",
            "Epoch 28/100\n",
            "111/111 [==============================] - 0s 4ms/step - loss: 0.0257 - accuracy: 0.9820 - val_loss: 4.7511 - val_accuracy: 0.7105\n",
            "Epoch 29/100\n",
            "111/111 [==============================] - 0s 4ms/step - loss: 0.0257 - accuracy: 0.9730 - val_loss: 4.8833 - val_accuracy: 0.7105\n",
            "Epoch 30/100\n",
            "111/111 [==============================] - 0s 4ms/step - loss: 0.0257 - accuracy: 0.9730 - val_loss: 5.0071 - val_accuracy: 0.7105\n",
            "Epoch 31/100\n",
            "111/111 [==============================] - 0s 4ms/step - loss: 0.0237 - accuracy: 0.9820 - val_loss: 5.1045 - val_accuracy: 0.7105\n",
            "Epoch 32/100\n",
            "111/111 [==============================] - 0s 4ms/step - loss: 0.0495 - accuracy: 0.9820 - val_loss: 4.9570 - val_accuracy: 0.7368\n",
            "Epoch 33/100\n",
            "111/111 [==============================] - 0s 4ms/step - loss: 0.0260 - accuracy: 0.9820 - val_loss: 5.1451 - val_accuracy: 0.7105\n",
            "Epoch 34/100\n",
            "111/111 [==============================] - 0s 4ms/step - loss: 0.0260 - accuracy: 0.9820 - val_loss: 5.2915 - val_accuracy: 0.7105\n",
            "Epoch 35/100\n",
            "111/111 [==============================] - 0s 4ms/step - loss: 0.0256 - accuracy: 0.9730 - val_loss: 5.4197 - val_accuracy: 0.7105\n",
            "Epoch 36/100\n",
            "111/111 [==============================] - 0s 4ms/step - loss: 0.0292 - accuracy: 0.9820 - val_loss: 5.2098 - val_accuracy: 0.7368\n",
            "Epoch 37/100\n",
            "111/111 [==============================] - 0s 4ms/step - loss: 0.0261 - accuracy: 0.9640 - val_loss: 5.3586 - val_accuracy: 0.7368\n",
            "Epoch 38/100\n",
            "111/111 [==============================] - 0s 4ms/step - loss: 0.0254 - accuracy: 0.9730 - val_loss: 5.5290 - val_accuracy: 0.7368\n",
            "Epoch 39/100\n",
            "111/111 [==============================] - 0s 4ms/step - loss: 0.0254 - accuracy: 0.9730 - val_loss: 5.6225 - val_accuracy: 0.7105\n",
            "Epoch 40/100\n",
            "111/111 [==============================] - 0s 4ms/step - loss: 0.0254 - accuracy: 0.9640 - val_loss: 5.7066 - val_accuracy: 0.7105\n",
            "Epoch 41/100\n",
            "111/111 [==============================] - 0s 4ms/step - loss: 0.0255 - accuracy: 0.9730 - val_loss: 5.7758 - val_accuracy: 0.7368\n",
            "Epoch 42/100\n",
            "111/111 [==============================] - 0s 4ms/step - loss: 0.0254 - accuracy: 0.9640 - val_loss: 5.8369 - val_accuracy: 0.7368\n",
            "Epoch 43/100\n",
            "111/111 [==============================] - 0s 4ms/step - loss: 0.0253 - accuracy: 0.9640 - val_loss: 5.9013 - val_accuracy: 0.7105\n",
            "Epoch 44/100\n",
            "111/111 [==============================] - 0s 4ms/step - loss: 0.0254 - accuracy: 0.9820 - val_loss: 5.9636 - val_accuracy: 0.7368\n",
            "Epoch 45/100\n",
            "111/111 [==============================] - 0s 4ms/step - loss: 0.0252 - accuracy: 0.9730 - val_loss: 6.0098 - val_accuracy: 0.7105\n",
            "Epoch 46/100\n",
            "111/111 [==============================] - 0s 4ms/step - loss: 0.0252 - accuracy: 0.9820 - val_loss: 6.0663 - val_accuracy: 0.7105\n",
            "Epoch 47/100\n",
            "111/111 [==============================] - 0s 4ms/step - loss: 0.0252 - accuracy: 0.9730 - val_loss: 6.1174 - val_accuracy: 0.7368\n",
            "Epoch 48/100\n",
            "111/111 [==============================] - 0s 4ms/step - loss: 0.0256 - accuracy: 0.9730 - val_loss: 6.1437 - val_accuracy: 0.7105\n",
            "Epoch 49/100\n",
            "111/111 [==============================] - 0s 4ms/step - loss: 0.0252 - accuracy: 0.9820 - val_loss: 6.1914 - val_accuracy: 0.7368\n",
            "Epoch 50/100\n",
            "111/111 [==============================] - 0s 4ms/step - loss: 0.0252 - accuracy: 0.9730 - val_loss: 6.2376 - val_accuracy: 0.7368\n",
            "Epoch 51/100\n",
            "111/111 [==============================] - 0s 4ms/step - loss: 0.0252 - accuracy: 0.9730 - val_loss: 6.2726 - val_accuracy: 0.7368\n",
            "Epoch 52/100\n",
            "111/111 [==============================] - 0s 4ms/step - loss: 0.0253 - accuracy: 0.9640 - val_loss: 6.3188 - val_accuracy: 0.7368\n",
            "Epoch 53/100\n",
            "111/111 [==============================] - 0s 4ms/step - loss: 0.0253 - accuracy: 0.9820 - val_loss: 6.3539 - val_accuracy: 0.7368\n",
            "Epoch 54/100\n",
            "111/111 [==============================] - 0s 4ms/step - loss: 0.0251 - accuracy: 0.9820 - val_loss: 6.4157 - val_accuracy: 0.7368\n",
            "Epoch 55/100\n",
            "111/111 [==============================] - 0s 4ms/step - loss: 0.0251 - accuracy: 0.9820 - val_loss: 6.4440 - val_accuracy: 0.7368\n",
            "Epoch 56/100\n",
            "111/111 [==============================] - 0s 4ms/step - loss: 0.0251 - accuracy: 0.9820 - val_loss: 6.4758 - val_accuracy: 0.7368\n",
            "Epoch 57/100\n",
            "111/111 [==============================] - 0s 4ms/step - loss: 0.0251 - accuracy: 0.9820 - val_loss: 6.5234 - val_accuracy: 0.7368\n",
            "Epoch 58/100\n",
            "111/111 [==============================] - 0s 4ms/step - loss: 0.0251 - accuracy: 0.9820 - val_loss: 6.5516 - val_accuracy: 0.7368\n",
            "Epoch 59/100\n",
            "111/111 [==============================] - 0s 4ms/step - loss: 0.0252 - accuracy: 0.9820 - val_loss: 6.5925 - val_accuracy: 0.7368\n",
            "Epoch 60/100\n",
            "111/111 [==============================] - 0s 4ms/step - loss: 0.0251 - accuracy: 0.9820 - val_loss: 6.6371 - val_accuracy: 0.7368\n",
            "Epoch 61/100\n",
            "111/111 [==============================] - 0s 4ms/step - loss: 0.0251 - accuracy: 0.9820 - val_loss: 6.6759 - val_accuracy: 0.7368\n",
            "Epoch 62/100\n",
            "111/111 [==============================] - 0s 4ms/step - loss: 0.0251 - accuracy: 0.9820 - val_loss: 6.7054 - val_accuracy: 0.7368\n",
            "Epoch 63/100\n",
            "111/111 [==============================] - 0s 4ms/step - loss: 0.0252 - accuracy: 0.9820 - val_loss: 6.7551 - val_accuracy: 0.7368\n",
            "Epoch 64/100\n",
            "111/111 [==============================] - 0s 4ms/step - loss: 0.0251 - accuracy: 0.9820 - val_loss: 6.7807 - val_accuracy: 0.7368\n",
            "Epoch 65/100\n",
            "111/111 [==============================] - 0s 4ms/step - loss: 0.0251 - accuracy: 0.9820 - val_loss: 6.8136 - val_accuracy: 0.7368\n",
            "Epoch 66/100\n",
            "111/111 [==============================] - 0s 4ms/step - loss: 0.0251 - accuracy: 0.9730 - val_loss: 6.8571 - val_accuracy: 0.7368\n",
            "Epoch 67/100\n",
            "111/111 [==============================] - 0s 4ms/step - loss: 0.0251 - accuracy: 0.9820 - val_loss: 6.8924 - val_accuracy: 0.7368\n",
            "Epoch 68/100\n",
            "111/111 [==============================] - 0s 4ms/step - loss: 0.0250 - accuracy: 0.9820 - val_loss: 6.9334 - val_accuracy: 0.7368\n",
            "Epoch 69/100\n",
            "111/111 [==============================] - 0s 4ms/step - loss: 0.0251 - accuracy: 0.9820 - val_loss: 6.9588 - val_accuracy: 0.7368\n",
            "Epoch 70/100\n",
            "111/111 [==============================] - 0s 4ms/step - loss: 0.0250 - accuracy: 0.9820 - val_loss: 6.9849 - val_accuracy: 0.7368\n",
            "Epoch 71/100\n",
            "111/111 [==============================] - 0s 4ms/step - loss: 0.0251 - accuracy: 0.9820 - val_loss: 7.0299 - val_accuracy: 0.7368\n",
            "Epoch 72/100\n",
            "111/111 [==============================] - 0s 4ms/step - loss: 0.0251 - accuracy: 0.9730 - val_loss: 7.0558 - val_accuracy: 0.7368\n",
            "Epoch 73/100\n",
            "111/111 [==============================] - 0s 4ms/step - loss: 0.0251 - accuracy: 0.9730 - val_loss: 7.0936 - val_accuracy: 0.7368\n",
            "Epoch 74/100\n",
            "111/111 [==============================] - 0s 4ms/step - loss: 0.0251 - accuracy: 0.9730 - val_loss: 7.1296 - val_accuracy: 0.7368\n",
            "Epoch 75/100\n",
            "111/111 [==============================] - 0s 4ms/step - loss: 0.0251 - accuracy: 0.9730 - val_loss: 7.1493 - val_accuracy: 0.7368\n",
            "Epoch 76/100\n",
            "111/111 [==============================] - 0s 4ms/step - loss: 0.0250 - accuracy: 0.9820 - val_loss: 7.1823 - val_accuracy: 0.7368\n",
            "Epoch 77/100\n",
            "111/111 [==============================] - 0s 4ms/step - loss: 0.0251 - accuracy: 0.9730 - val_loss: 7.2050 - val_accuracy: 0.7368\n",
            "Epoch 78/100\n",
            "111/111 [==============================] - 0s 4ms/step - loss: 0.0251 - accuracy: 0.9820 - val_loss: 7.2487 - val_accuracy: 0.7368\n",
            "Epoch 79/100\n",
            "111/111 [==============================] - 0s 4ms/step - loss: 0.0313 - accuracy: 0.9820 - val_loss: 7.0221 - val_accuracy: 0.7368\n",
            "Epoch 80/100\n",
            "111/111 [==============================] - 0s 4ms/step - loss: 0.0306 - accuracy: 0.9730 - val_loss: 6.4850 - val_accuracy: 0.7368\n",
            "Epoch 81/100\n",
            "111/111 [==============================] - 0s 4ms/step - loss: 0.0254 - accuracy: 0.9820 - val_loss: 6.4752 - val_accuracy: 0.7368\n",
            "Epoch 82/100\n",
            "111/111 [==============================] - 0s 4ms/step - loss: 0.0254 - accuracy: 0.9820 - val_loss: 6.6561 - val_accuracy: 0.7368\n",
            "Epoch 83/100\n",
            "111/111 [==============================] - 0s 4ms/step - loss: 0.0263 - accuracy: 0.9820 - val_loss: 6.6454 - val_accuracy: 0.7105\n",
            "Epoch 84/100\n",
            "111/111 [==============================] - 0s 4ms/step - loss: 0.0255 - accuracy: 0.9730 - val_loss: 6.5869 - val_accuracy: 0.7105\n",
            "Epoch 85/100\n",
            "111/111 [==============================] - 0s 4ms/step - loss: 0.0252 - accuracy: 0.9820 - val_loss: 6.6467 - val_accuracy: 0.7105\n",
            "Epoch 86/100\n",
            "111/111 [==============================] - 0s 4ms/step - loss: 0.0252 - accuracy: 0.9640 - val_loss: 6.6899 - val_accuracy: 0.7105\n",
            "Epoch 87/100\n",
            "111/111 [==============================] - 0s 4ms/step - loss: 0.0251 - accuracy: 0.9730 - val_loss: 6.7533 - val_accuracy: 0.7105\n",
            "Epoch 88/100\n",
            "111/111 [==============================] - 0s 4ms/step - loss: 0.0257 - accuracy: 0.9820 - val_loss: 6.8361 - val_accuracy: 0.7105\n",
            "Epoch 89/100\n",
            "111/111 [==============================] - 0s 4ms/step - loss: 0.0251 - accuracy: 0.9820 - val_loss: 6.8048 - val_accuracy: 0.7105\n",
            "Epoch 90/100\n",
            "111/111 [==============================] - 0s 4ms/step - loss: 0.0251 - accuracy: 0.9730 - val_loss: 6.8711 - val_accuracy: 0.7105\n",
            "Epoch 91/100\n",
            "111/111 [==============================] - 0s 4ms/step - loss: 0.0252 - accuracy: 0.9820 - val_loss: 6.9011 - val_accuracy: 0.7105\n",
            "Epoch 92/100\n",
            "111/111 [==============================] - 0s 4ms/step - loss: 0.0252 - accuracy: 0.9730 - val_loss: 6.9271 - val_accuracy: 0.7105\n",
            "Epoch 93/100\n",
            "111/111 [==============================] - 0s 4ms/step - loss: 0.0251 - accuracy: 0.9820 - val_loss: 6.9564 - val_accuracy: 0.7105\n",
            "Epoch 94/100\n",
            "111/111 [==============================] - 0s 4ms/step - loss: 0.0251 - accuracy: 0.9640 - val_loss: 6.9957 - val_accuracy: 0.7105\n",
            "Epoch 95/100\n",
            "111/111 [==============================] - 0s 4ms/step - loss: 0.0250 - accuracy: 0.9730 - val_loss: 7.0274 - val_accuracy: 0.7105\n",
            "Epoch 96/100\n",
            "111/111 [==============================] - 0s 4ms/step - loss: 0.0251 - accuracy: 0.9820 - val_loss: 7.0623 - val_accuracy: 0.7105\n",
            "Epoch 97/100\n",
            "111/111 [==============================] - 0s 4ms/step - loss: 0.0252 - accuracy: 0.9730 - val_loss: 7.0963 - val_accuracy: 0.7105\n",
            "Epoch 98/100\n",
            "111/111 [==============================] - 0s 4ms/step - loss: 0.0250 - accuracy: 0.9730 - val_loss: 7.1238 - val_accuracy: 0.7105\n",
            "Epoch 99/100\n",
            "111/111 [==============================] - 0s 4ms/step - loss: 0.0250 - accuracy: 0.9820 - val_loss: 7.1673 - val_accuracy: 0.7105\n",
            "Epoch 100/100\n",
            "111/111 [==============================] - 0s 4ms/step - loss: 0.0250 - accuracy: 0.9730 - val_loss: 7.1986 - val_accuracy: 0.7105\n"
          ]
        },
        {
          "output_type": "execute_result",
          "data": {
            "text/plain": [
              "<keras.callbacks.History at 0x7ff1fb2ba2d0>"
            ]
          },
          "metadata": {},
          "execution_count": 29
        }
      ]
    },
    {
      "cell_type": "code",
      "source": [
        "#plot confusion matrix so we can see how it predicts for different categories\n",
        "test_prediction=tf.math.argmax(model.predict(x_test),axis=-1)\n",
        "train_prediction=tf.math.argmax(model.predict(x_train),axis=-1)\n",
        "print(\"Test predictions\")\n",
        "print(tf.math.confusion_matrix(y_test,test_prediction))\n",
        "print(\"train predictions\")\n",
        "print(tf.math.confusion_matrix(y_train,train_prediction))"
      ],
      "metadata": {
        "id": "4zQC7Eh-RvuD",
        "colab": {
          "base_uri": "https://localhost:8080/"
        },
        "outputId": "75a0b905-b1ce-4d01-943d-ac77ba3214c5"
      },
      "execution_count": null,
      "outputs": [
        {
          "output_type": "stream",
          "name": "stdout",
          "text": [
            "Test predictions\n",
            "tf.Tensor(\n",
            "[[17  5]\n",
            " [ 6 10]], shape=(2, 2), dtype=int32)\n",
            "train predictions\n",
            "tf.Tensor(\n",
            "[[50  0]\n",
            " [ 2 59]], shape=(2, 2), dtype=int32)\n"
          ]
        }
      ]
    },
    {
      "cell_type": "code",
      "source": [
        "# Save model to a tflite model for inference on raspberry pi (or websensor platform)\n",
        "converter=tf.lite.TFLiteConverter.from_keras_model(model)\n",
        "tflite=converter.convert()\n",
        "\n",
        "tflite_model_file = open('model.tflite',\"wb\")\n",
        "tflite_model_file.write(tflite)\n",
        "\n",
        "interpreter = tf.lite.Interpreter(model_content=tflite)\n",
        "\n",
        "signatures = interpreter.get_signature_list()\n",
        "print(signatures)\n",
        "\n",
        "from google.colab import files\n",
        "files.download('model.tflite')\n"
      ],
      "metadata": {
        "id": "gGjERc-8Rwkz",
        "colab": {
          "base_uri": "https://localhost:8080/",
          "height": 86
        },
        "outputId": "b2be97f2-ea13-4679-da17-c804fe7fb856"
      },
      "execution_count": null,
      "outputs": [
        {
          "output_type": "stream",
          "name": "stdout",
          "text": [
            "INFO:tensorflow:Assets written to: /tmp/tmprvhrkwc_/assets\n"
          ]
        },
        {
          "output_type": "stream",
          "name": "stderr",
          "text": [
            "INFO:tensorflow:Assets written to: /tmp/tmprvhrkwc_/assets\n",
            "WARNING:absl:Buffer deduplication procedure will be skipped when flatbuffer library is not properly loaded\n"
          ]
        },
        {
          "output_type": "stream",
          "name": "stdout",
          "text": [
            "{'serving_default': {'inputs': ['x'], 'outputs': ['y']}}\n"
          ]
        },
        {
          "output_type": "display_data",
          "data": {
            "text/plain": [
              "<IPython.core.display.Javascript object>"
            ],
            "application/javascript": [
              "\n",
              "    async function download(id, filename, size) {\n",
              "      if (!google.colab.kernel.accessAllowed) {\n",
              "        return;\n",
              "      }\n",
              "      const div = document.createElement('div');\n",
              "      const label = document.createElement('label');\n",
              "      label.textContent = `Downloading \"${filename}\": `;\n",
              "      div.appendChild(label);\n",
              "      const progress = document.createElement('progress');\n",
              "      progress.max = size;\n",
              "      div.appendChild(progress);\n",
              "      document.body.appendChild(div);\n",
              "\n",
              "      const buffers = [];\n",
              "      let downloaded = 0;\n",
              "\n",
              "      const channel = await google.colab.kernel.comms.open(id);\n",
              "      // Send a message to notify the kernel that we're ready.\n",
              "      channel.send({})\n",
              "\n",
              "      for await (const message of channel.messages) {\n",
              "        // Send a message to notify the kernel that we're ready.\n",
              "        channel.send({})\n",
              "        if (message.buffers) {\n",
              "          for (const buffer of message.buffers) {\n",
              "            buffers.push(buffer);\n",
              "            downloaded += buffer.byteLength;\n",
              "            progress.value = downloaded;\n",
              "          }\n",
              "        }\n",
              "      }\n",
              "      const blob = new Blob(buffers, {type: 'application/binary'});\n",
              "      const a = document.createElement('a');\n",
              "      a.href = window.URL.createObjectURL(blob);\n",
              "      a.download = filename;\n",
              "      div.appendChild(a);\n",
              "      a.click();\n",
              "      div.remove();\n",
              "    }\n",
              "  "
            ]
          },
          "metadata": {}
        },
        {
          "output_type": "display_data",
          "data": {
            "text/plain": [
              "<IPython.core.display.Javascript object>"
            ],
            "application/javascript": [
              "download(\"download_4bfd921a-24a7-4988-b104-b4c40a9e8aa2\", \"model.tflite\", 306172)"
            ]
          },
          "metadata": {}
        }
      ]
    }
  ]
}